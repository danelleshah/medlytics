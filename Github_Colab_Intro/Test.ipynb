{
  "nbformat": 4,
  "nbformat_minor": 0,
  "metadata": {
    "colab": {
      "name": "Test.ipynb",
      "version": "0.3.2",
      "provenance": []
    },
    "kernelspec": {
      "display_name": "Python 3",
      "language": "python",
      "name": "python3"
    }
  },
  "cells": [
    {
      "metadata": {
        "id": "V9NF3S0rZ6_K",
        "colab_type": "code",
        "colab": {}
      },
      "cell_type": "code",
      "source": [
        "# Hey, the upstream repository was updated!\n",
        "\n",
        "print(\"Oh no!\")"
      ],
      "execution_count": 0,
      "outputs": []
    }
  ]
}